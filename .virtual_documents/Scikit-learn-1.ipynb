








!git clone https://github.com/ARIM-Academy/Advanced_Tutorial_1.git
%cd ARIM-Academy/Advanced_Tutorial_1








#ライブラリ
import pandas as pd
import numpy as np 
import matplotlib.pyplot as plt
import seaborn as sns

import warnings
warnings.filterwarnings('ignore')





#データセットの読み込み
df = pd.read_csv('data/corrosin_data.csv', index_col=0)


#データセットの確認
df





#　記述子（特徴量）の削除
df = df.drop(['Month'],axis = 1)
df








#概要統計
df.describe()





#　ペアプロットによる各変数間の二次元空間像
sns.pairplot(df)
plt.show()





#　ペアプロットによる各変数間の二次元空間像（その２）
TARGET=['AT','Rain','Sun','AW','Vap','Hum','Corrosion']
sns.pairplot(df[TARGET])
plt.show()





#　相関係数
corr = df.corr()
corr





#相関係数をヒートマップ化する

plt.figure(figsize=(10,10))

sns.heatmap(corr, annot=True)
plt.show()








# 腐食量のヒストグラム
fig, ax = plt.subplots(figsize=(6,6))

#着目する変数の指定（ここでは腐食量）
X = df['Corrosion']

#ビン数は20分割
ax.hist(X, bins = 20)

#ラベル名
plt.xlabel('Corrosion', fontsize =14)
plt.ylabel('Freq', fontsize =14)

plt.grid()
plt.show()





#腐食量と平均風速との相関図
fig, ax = plt.subplots(figsize=(6,6))

#着目する変数の指定（ここでは腐食量と平均風速）
X = df[['AW']]
y = df[['Corrosion']]

ax.scatter(X,y)

plt.xlabel("Average Wind Speed", fontsize =14)
plt.ylabel("Corrosion", fontsize =14)

# 横軸と縦軸のレンジの設定
plt.xlim(0, 10)
plt.ylim(0, 3000)

plt.grid()
plt.show()








# 線形回帰モデル
from sklearn.linear_model import LinearRegression





# 変数の定義
X = df[['AW']]
y = df[['Corrosion']]





#単回帰モデルの作成
model = LinearRegression()

#モデルの訓練（フィッティング）
model.fit(X, y)





y_pred = model.predict(X)





#腐食量と平均風速との関係図
fig, ax = plt.subplots(figsize=(6,6))

ax.scatter(X, y)
ax.plot(X, y_pred, linestyle="solid", color = "red")

plt.xlabel("Average Wind Speed", fontsize =14)
plt.ylabel("Corrosion", fontsize =14)

# 横軸のレンジを0から10に設定
plt.xlim(0, 10)
plt.ylim(0, 3000)

plt.grid()
plt.show()





print('①　係数：', model.coef_[0])
print('②　切片：',model.intercept_)
print('③　決定係数 R^2： {:.3f}'.format(model.score(X, y)))

# 相関係数を決定係数から計算
r_squared = model.score(X, y)
correlation_coefficient = np.sqrt(r_squared)
print('④　相関係数： {:.3f}'.format(correlation_coefficient))



